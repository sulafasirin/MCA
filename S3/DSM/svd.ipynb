{
  "cells": [
    {
      "cell_type": "code",
      "execution_count": null,
      "id": "b8f768b2-d415-4b0c-82ba-63de4cb4767f",
      "metadata": {
        "trusted": true
      },
      "outputs": [
        {
          "name": "stdout",
          "output_type": "stream",
          "text": [
            "Original matrix A:\n",
            " [[3 1]\n",
            " [1 3]]\n",
            "\n",
            "Matrix U (Left singular vectors):\n",
            " [[-0.70710678 -0.70710678]\n",
            " [-0.70710678  0.70710678]]\n",
            "\n",
            "Singular values (Sigma):\n",
            " [4. 2.]\n",
            "\n",
            "Matrix V^T (Right singular vectors transpose):\n",
            " [[-0.70710678 -0.70710678]\n",
            " [-0.70710678  0.70710678]]\n",
            "\n",
            "Diagonal matrix Sigma:\n",
            " [[4. 0.]\n",
            " [0. 2.]]\n",
            "\n",
            "Reconstructed matrix A (U * Sigma * V^T):\n",
            " [[3. 1.]\n",
            " [1. 3.]]\n"
          ]
        }
      ],
      "source": [
        "import numpy as np\n",
        "\n",
        "A = np.array([[3, 1],\n",
        "              [1, 3]])\n",
        "\n",
        "print(\"Original matrix A:\\n\", A)\n",
        "\n",
        "U, S, VT = np.linalg.svd(A)\n",
        "\n",
        "print(\"\\nMatrix U (Left singular vectors):\\n\", U)\n",
        "print(\"\\nSingular values (Sigma):\\n\", S)\n",
        "print(\"\\nMatrix V^T (Right singular vectors transpose):\\n\", VT)\n",
        "\n",
        "\n",
        "Sigma = np.zeros((A.shape[0], A.shape[1]))  \n",
        "np.fill_diagonal(Sigma, S)\n",
        "\n",
        "print(\"\\nDiagonal matrix Sigma:\\n\", Sigma)\n",
        "\n",
        "\n",
        "A_reconstructed = U @ Sigma @ VT\n",
        "\n",
        "print(\"\\nReconstructed matrix A (U * Sigma * V^T):\\n\", np.round(A_reconstructed, 2))"
      ]
    },
    {
      "cell_type": "code",
      "execution_count": null,
      "id": "bd48a462-f315-4614-86b7-5bd9efc27c9a",
      "metadata": {
        "trusted": true
      },
      "outputs": [],
      "source": []
    }
  ],
  "metadata": {
    "kernelspec": {
      "display_name": "Python 3.13 (XPython)",
      "language": "python",
      "name": "xpython"
    },
    "language_info": {
      "file_extension": ".py",
      "mimetype": "text/x-python",
      "name": "python",
      "version": "3.13.1"
    }
  },
  "nbformat": 4,
  "nbformat_minor": 5
}
